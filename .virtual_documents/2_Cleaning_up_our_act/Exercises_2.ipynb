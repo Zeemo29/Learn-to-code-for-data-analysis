


import warnings
warnings.simplefilter('ignore', FutureWarning)

from pandas import *





df = read_csv('WHO POP TB all.csv')





df.columns





df.iloc[0] # first row, index 0


df.iloc[2] # third row, index 2





df.head() # first five rows


df.head(7) # first seven rows





df.tail() # last five rows





df[['Country', 'Population (1000s)']].head()





df['TB deaths'].iloc[2] # third value of deaths column


df['Population (1000s)'].tail() # last five values of population column      





df.iloc[55]





df.head(10)





df[["Country", "TB deaths"]].head(8)








df[df['Population (1000s)'] > 80000]         





df[df["TB deaths"] > 10000]








df[(df['Population (1000s)'] > 80000) & (df['TB deaths'] > 10000)]





population = df['Population (1000s)']
deaths = df['TB deaths']
df[(population > 80000) & (deaths > 10000)]  





population = df['Population (1000s)']
deaths = df['TB deaths']
df[(population <= 50000) | (deaths >= 20000)]  


df[(df['Country'].str.startswith('C')) & (df['Population (1000s)'] < 1000)]








london = read_csv('London_2014.csv')
london.head()





london.columns





london = read_csv('London_2014.csv', skipinitialspace=True)





london['WindDirDegrees<br />'].head()





london = london.rename(columns={'WindDirDegrees<br />' : 'WindDirDegrees'})





london['WindDirDegrees'] = london['WindDirDegrees'].str.rstrip('<br />')





london['WindDirDegrees'].head()





london['Events'].tail()





london[london['Events'].isnull()]





london['Events'] = london['Events'].fillna('')
london[london['Events'].isnull()]





london.dropna()











london.dtypes





london['WindDirDegrees'] = london['WindDirDegrees'].astype('int64')   





london['GMT'] = to_datetime(london['GMT'])
london.dtypes





from datetime import datetime

london[london['GMT'] == datetime(2014, 6, 4)] 





dates = london['GMT']
start = datetime(2014, 12, 8)
end = datetime(2014, 12, 12)
london[(dates >= start) & (dates <= end)]





df[(df['WindDirDegrees'] >= 350) | (df['WindDirDegrees'] <= 10)]





df[(df['GMT'] >= '2014-04-01') & (df['GMT'] <= '2014-04-11')]














%matplotlib inline





london['Max Wind SpeedKm/h'].plot(grid=True)





london['Max Wind SpeedKm/h'].plot(grid=True, figsize=(10,5))





london[['Max Wind SpeedKm/h', 'Mean Wind SpeedKm/h']].plot(grid=True, figsize=(10,5))














london.index = london['GMT']
london.head(2)





london.loc[datetime(2014, 1, 1)]





london.loc[datetime(2014,12,8) : datetime(2014,12,12)]

#The meaning of the above code is get the rows beween and including 
#the indices datetime(2014,12,8) and datetime(2014,12,12)





london['Max Wind SpeedKm/h'].plot(grid=True, figsize=(10,5))









