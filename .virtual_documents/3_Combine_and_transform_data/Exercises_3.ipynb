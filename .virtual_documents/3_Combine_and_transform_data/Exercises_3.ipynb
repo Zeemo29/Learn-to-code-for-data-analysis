


import warnings
warnings.simplefilter('ignore', FutureWarning)

from pandas import *








headings = ['Country', 'GDP (US$)']
table = [
  ['UK', 2678454886796.7],    # 1st row
  ['USA', 16768100000000.0],  # 2nd row
  ['China', 9240270452047.0], # and so on...
  ['Brazil', 2245673032353.8],
  ['South Africa', 366057913367.1]
]
gdp = DataFrame(columns=headings, data=table)
gdp





headings = ['Country name', 'Life expectancy (years)']
table = [
  ['China', 75],
  ['Russia', 71],  
  ['United States', 79],
  ['India', 66],
  ['United Kingdom', 81]
]
life = DataFrame(columns=headings, data=table)
life





head = ["Country name", "Population in 1000s"]
tab = [
    ["Brazil", 200362],
    ["Russia", 142834],
    ["India", 1252140],
    ["China", 1393337],
    ["South Africa", 52776]
]

population = DataFrame(columns= head, data = tab)

population








def roundToMillions (value):
    result = round(value / 1000000)
    return result


def roundToMillions (value):
    return round(value / 1000000)





roundToMillions(4567890.1) == 5


roundToMillions(0) == 0  # always test with zero...


roundToMillions(-1) == 0 # ...and negative numbers


roundToMillions(1499999) == 1 # test rounding to the nearest





def usdToGBP (usd):
    return usd / 1.564768 # average rate during 2013 

usdToGBP(0) == 0


usdToGBP(1.564768) == 1


usdToGBP(-1) < 0





def round_to_million(population):
    return round(population / 1000)











def expandCountry (name):
    if name == 'UK':
        return 'United Kingdom'
    elif name == 'USA':
        return 'United States'
    else:
        return name

expandCountry('India') == 'India'





def expandCountry (name):
    if name == 'UK':
        name = 'United Kingdom'
    if name == 'USA':
        name = 'United States'
    return name











gdp['Country name'] = gdp['Country'].apply(expandCountry)
gdp





gdp['GDP (£m)'] = gdp['GDP (US$)'].apply(usdToGBP).apply(roundToMillions)
gdp





gdp['GDP (US$)'].apply(roundToMillions).apply(usdToGBP).apply(round)





headings = ['Country name', 'GDP (£m)']
gdp = gdp[headings]
gdp





population["Population in millions"] = population["Population in 1000s"].apply(round_to_million)
population








life


gdp





merge(gdp, life, on='Country name', how='left')





merge(gdp, life, on='Country name', how='right')





merge(gdp, life, on='Country name', how='outer')





gdpVsLife = merge(gdp, life, on='Country name', how='inner')
gdpVsLife





#left join

merge(population, gdpVsLife, on = "Country name", how = "left")


merge(population, gdpVsLife, on = "Country name", how = "right")


merge(population, gdpVsLife, on = "Country name", how = "outer")


merge(population, gdpVsLife, on = "Country name", how = "inner")








GDP_USD = 'GDP (US$)'
GDP_GBP = 'GDP (£m)'
GDP_USD














GDP_INDICATOR = 'NY.GDP.MKTP.CD'
gdpReset = read_csv('WB GDP 2013.csv')

LIFE_INDICATOR = 'SP.DYN.LE00.IN'
lifeReset = read_csv('WB LE 2013.csv')





# if pandas.__version__.startswith('0.23'):
#     # this solves an incompatibility between pandas 0.23 and datareader 0.6
#     # taken from https://stackoverflow.com/questions/50394873/
#     core.common.is_list_like = api.types.is_list_like

# from pandas_datareader.wb import download

# YEAR = 2013
# gdpWB = download(indicator=GDP_INDICATOR, country='all', start=YEAR, end=YEAR)
# lifeWB = download(indicator=LIFE_INDICATOR, country='all', start=YEAR, end=YEAR)
# lifeWB.head()





# gdpReset = gdpWB.reset_index()
# lifeReset = lifeWB.reset_index()





lifeReset.head()





wbpop = read_csv("WB POP 2013.csv")
wbpop


wbpop = wbpop[34:].dropna()
wbpop.head()








lifeReset[0:3]


lifeReset[240:]





gdpCountries = gdpReset[34:]
lifeCountries = lifeReset[34:]
gdpCountries.head()





gdpData = gdpCountries.dropna()
lifeData = lifeCountries.dropna()
gdpData.head()





COUNTRY = 'country'
headings = [COUNTRY, GDP_INDICATOR]
gdpClean = gdpData[headings]
headings = [COUNTRY, LIFE_INDICATOR]
lifeClean = lifeData[headings]
lifeClean.head()











gdpVsLifeAll = merge(gdpClean, lifeClean, on=COUNTRY, how='inner')
gdpVsLifeAll.head()





GDP = 'GDP (£m)'
column = gdpVsLifeAll[GDP_INDICATOR]
gdpVsLifeAll[GDP] = column.apply(usdToGBP).apply(roundToMillions)
gdpVsLifeAll.head()





LIFE = 'Life expectancy (years)'
gdpVsLifeAll[LIFE] = gdpVsLifeAll[LIFE_INDICATOR].apply(round)
gdpVsLifeAll.head()





headings = [COUNTRY, GDP, LIFE]
gdpVsLifeClean = gdpVsLifeAll[headings]
gdpVsLifeClean.head()











from scipy.stats import spearmanr

gdpColumn = gdpVsLifeClean[GDP]
lifeColumn = gdpVsLifeClean[LIFE]
(correlation, pValue) = spearmanr(gdpColumn, lifeColumn)
print('The correlation is', correlation)
if pValue < 0.05:
    print('It is statistically significant.')
else:
    print('It is not statistically significant.')














%matplotlib inline
gdpVsLifeClean.plot(x=GDP, y=LIFE, kind='scatter', grid=True, logx=True, figsize = (10, 4))






